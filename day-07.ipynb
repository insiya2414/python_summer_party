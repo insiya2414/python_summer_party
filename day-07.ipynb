{
  "cells": [
    {
      "cell_type": "markdown",
      "metadata": {},
      "source": [
        "# Day 7: Celebrity Product Drops Sales Performance Analysis"
      ]
    },
    {
      "cell_type": "markdown",
      "metadata": {},
      "source": [
        "You are a Product Analyst working on Nike's marketing performance team. Your team wants to evaluate the effectiveness of celebrity product collaborations by analyzing sales data. You will investigate the performance of celebrity product drops to inform future marketing strategies."
      ]
    },
    {
      "cell_type": "code",
      "metadata": {},
      "execution_count": null,
      "outputs": [],
      "source": "import pandas as pd\nimport numpy as np\n\nfct_sales_data = [\n  {\n    \"sale_id\": 1,\n    \"sale_date\": \"2025-01-10\",\n    \"product_id\": 901,\n    \"sale_amount\": null,\n    \"celebrity_id\": 101\n  },\n  {\n    \"sale_id\": 2,\n    \"sale_date\": \"2025-01-15\",\n    \"product_id\": 901,\n    \"sale_amount\": 1500,\n    \"celebrity_id\": 101\n  },\n  {\n    \"sale_id\": 3,\n    \"sale_date\": \"2025-02-03\",\n    \"product_id\": 902,\n    \"sale_amount\": 2000.5,\n    \"celebrity_id\": 102\n  },\n  {\n    \"sale_id\": 4,\n    \"sale_date\": \"2025-03-12\",\n    \"product_id\": 903,\n    \"sale_amount\": 2500.75,\n    \"celebrity_id\": 103\n  },\n  {\n    \"sale_id\": 5,\n    \"sale_date\": \"2025-03-20\",\n    \"product_id\": 904,\n    \"sale_amount\": null,\n    \"celebrity_id\": 104\n  },\n  {\n    \"sale_id\": 6,\n    \"sale_date\": \"2025-02-28\",\n    \"product_id\": 901,\n    \"sale_amount\": 1000,\n    \"celebrity_id\": 101\n  },\n  {\n    \"sale_id\": 7,\n    \"sale_date\": \"2025-03-25\",\n    \"product_id\": 902,\n    \"sale_amount\": 300,\n    \"celebrity_id\": 102\n  },\n  {\n    \"sale_id\": 8,\n    \"sale_date\": \"2025-03-30\",\n    \"product_id\": 905,\n    \"sale_amount\": 1800,\n    \"celebrity_id\": 105\n  },\n  {\n    \"sale_id\": 9,\n    \"sale_date\": \"2025-01-20\",\n    \"product_id\": 903,\n    \"sale_amount\": 1200,\n    \"celebrity_id\": 103\n  },\n  {\n    \"sale_id\": 10,\n    \"sale_date\": \"2025-02-05\",\n    \"product_id\": 906,\n    \"sale_amount\": 500,\n    \"celebrity_id\": 106\n  },\n  {\n    \"sale_id\": 11,\n    \"sale_date\": \"2025-03-01\",\n    \"product_id\": 907,\n    \"sale_amount\": 2200,\n    \"celebrity_id\": 107\n  },\n  {\n    \"sale_id\": 12,\n    \"sale_date\": \"2025-02-15\",\n    \"product_id\": 908,\n    \"sale_amount\": 1300,\n    \"celebrity_id\": 101\n  },\n  {\n    \"sale_id\": 13,\n    \"sale_date\": \"2025-03-15\",\n    \"product_id\": 909,\n    \"sale_amount\": null,\n    \"celebrity_id\": 102\n  },\n  {\n    \"sale_id\": 14,\n    \"sale_date\": \"2025-01-25\",\n    \"product_id\": 910,\n    \"sale_amount\": 900,\n    \"celebrity_id\": 108\n  },\n  {\n    \"sale_id\": 15,\n    \"sale_date\": \"2025-02-20\",\n    \"product_id\": 905,\n    \"sale_amount\": 700,\n    \"celebrity_id\": 105\n  },\n  {\n    \"sale_id\": 16,\n    \"sale_date\": \"2025-03-28\",\n    \"product_id\": 902,\n    \"sale_amount\": 1500,\n    \"celebrity_id\": 102\n  },\n  {\n    \"sale_id\": 17,\n    \"sale_date\": \"2024-11-15\",\n    \"product_id\": 901,\n    \"sale_amount\": 800,\n    \"celebrity_id\": 101\n  },\n  {\n    \"sale_id\": 18,\n    \"sale_date\": \"2024-07-30\",\n    \"product_id\": 902,\n    \"sale_amount\": 1000,\n    \"celebrity_id\": 102\n  },\n  {\n    \"sale_id\": 19,\n    \"sale_date\": \"2025-04-10\",\n    \"product_id\": 905,\n    \"sale_amount\": 2000,\n    \"celebrity_id\": 105\n  },\n  {\n    \"sale_id\": 20,\n    \"sale_date\": \"2024-09-05\",\n    \"product_id\": 903,\n    \"sale_amount\": 1100,\n    \"celebrity_id\": 103\n  }\n]\nfct_sales = pd.DataFrame(fct_sales_data)\n"
    },
    {
      "cell_type": "markdown",
      "metadata": {},
      "source": [
        "## Question 1\n\nFor Q1 2025 (January 1st through March 31st, 2025), can you identify all records of celebrity collaborations from the sales data where the sale_amount is missing? This will help us flag incomplete records that could impact the analysis of Nike's product performance."
      ]
    },
    {
      "cell_type": "code",
      "metadata": {},
      "execution_count": null,
      "outputs": [],
      "source": "# Filter for Q1 2025, celebrity collaborations, and missing sale_amount\nresult = fct_sales[\n    (fct_sales['sale_date'].between('2025-01-01', '2025-03-31')) &\n    (fct_sales['sale_amount'].isna())\n].reset_index(drop=True)\n\n# Print result\nprint(result)"
    },
    {
      "cell_type": "markdown",
      "metadata": {},
      "source": [
        "## Question 2\n\nFor Q1 2025 (January 1st through March 31st, 2025), can you list the unique combinations of celebrity_id and product_id from the sales table? This will ensure that each collaboration is accurately accounted for in the analysis of Nike's marketing performance."
      ]
    },
    {
      "cell_type": "code",
      "metadata": {},
      "execution_count": null,
      "outputs": [],
      "source": "# result = fct_sales[\n#    (fct_sales['sale_date'].between('01-01-2025', '03-31-2025')) &\n#    (fct_sales[['celebrity_id', 'product_id']].drop_duplicate().reset_index())\n#  ]\n# Filter for Q1 2025\nresult = fct_sales[\n    fct_sales['sale_date'].between('2025-01-01', '2025-03-31')\n][['celebrity_id', 'product_id']].drop_duplicates().reset_index(drop=True)\n\nprint(result)\n\n\n# print(result)"
    },
    {
      "cell_type": "markdown",
      "metadata": {},
      "source": [
        "## Question 3\n\nFor Q1 2025 (January 1st through March 31st, 2025), can you rank the unique celebrity collaborations based on their total sales amounts and list the top 3 collaborations in descending order? This will help recommend the most successful partnerships for Nike's future product drop strategies."
      ]
    },
    {
      "cell_type": "code",
      "metadata": {},
      "execution_count": null,
      "outputs": [],
      "source": "# Step 1: Filter for Q1 2025\nq1_2025 = fct_sales[\n    fct_sales['sale_date'].between('2025-01-01', '2025-03-31')\n]\n\n# Step 2: Group by celebrity_id and product_id, summing total sales\ncollab_sales = q1_2025.groupby(['celebrity_id', 'product_id'])['sale_amount'].sum().reset_index()\n\n# Step 3: Sort by total sales in descending order\ncollab_sales_sorted = collab_sales.sort_values(by='sale_amount', ascending=False)\n\n# Step 4: Select the top 3 collaborations\ntop_3_collabs = collab_sales_sorted.head(3)\n\nprint(top_3_collabs)"
    },
    {
      "cell_type": "markdown",
      "metadata": {},
      "source": [
        "Made with ❤️ by [Interview Master](https://www.interviewmaster.ai)"
      ]
    }
  ],
  "metadata": {
    "kernelspec": {
      "name": "python3",
      "language": "python",
      "display_name": "Python 3"
    },
    "language_info": {
      "name": "python",
      "version": "3",
      "mimetype": "text/x-python",
      "file_extension": ".py"
    }
  },
  "nbformat": 4,
  "nbformat_minor": 5
}