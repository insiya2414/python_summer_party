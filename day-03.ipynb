{
  "cells": [
    {
      "cell_type": "markdown",
      "metadata": {},
      "source": [
        "# Day 3: Disney Parks Guest Spending Behavior"
      ]
    },
    {
      "cell_type": "markdown",
      "metadata": {},
      "source": [
        "You are a data analyst working with the Disney Parks revenue team to understand nuanced guest spending patterns across different park experiences. The team wants to develop a comprehensive view of visitor purchasing behaviors. Your goal is to uncover meaningful insights that can drive personalized marketing strategies."
      ]
    },
    {
      "cell_type": "code",
      "metadata": {},
      "execution_count": null,
      "outputs": [],
      "source": "import pandas as pd\nimport numpy as np\n\nfct_guest_spending_data = [\n  {\n    \"guest_id\": 1,\n    \"visit_date\": \"2024-07-05\",\n    \"amount_spent\": 50,\n    \"park_experience_type\": \"Attraction\"\n  },\n  {\n    \"guest_id\": 2,\n    \"visit_date\": \"2024-07-06\",\n    \"amount_spent\": 30,\n    \"park_experience_type\": \"Dining\"\n  },\n  {\n    \"guest_id\": 3,\n    \"visit_date\": \"2024-07-10\",\n    \"amount_spent\": 20.5,\n    \"park_experience_type\": \"Retail\"\n  },\n  {\n    \"guest_id\": 4,\n    \"visit_date\": \"2024-07-12\",\n    \"amount_spent\": 40,\n    \"park_experience_type\": \"Entertainment\"\n  },\n  {\n    \"guest_id\": 1,\n    \"visit_date\": \"2024-07-15\",\n    \"amount_spent\": 35,\n    \"park_experience_type\": \"Dining\"\n  },\n  {\n    \"guest_id\": 5,\n    \"visit_date\": \"2024-07-20\",\n    \"amount_spent\": 60,\n    \"park_experience_type\": \"Attraction\"\n  },\n  {\n    \"guest_id\": 6,\n    \"visit_date\": \"2024-07-25\",\n    \"amount_spent\": 25,\n    \"park_experience_type\": \"Retail\"\n  },\n  {\n    \"guest_id\": 1,\n    \"visit_date\": \"2024-08-03\",\n    \"amount_spent\": 55,\n    \"park_experience_type\": \"Attraction\"\n  },\n  {\n    \"guest_id\": 1,\n    \"visit_date\": \"2024-08-15\",\n    \"amount_spent\": 45,\n    \"park_experience_type\": \"Dining\"\n  },\n  {\n    \"guest_id\": 2,\n    \"visit_date\": \"2024-08-05\",\n    \"amount_spent\": 22,\n    \"park_experience_type\": \"Retail\"\n  },\n  {\n    \"guest_id\": 2,\n    \"visit_date\": \"2024-08-20\",\n    \"amount_spent\": 38,\n    \"park_experience_type\": \"Entertainment\"\n  },\n  {\n    \"guest_id\": 7,\n    \"visit_date\": \"2024-08-10\",\n    \"amount_spent\": 15,\n    \"park_experience_type\": \"Character Meet\"\n  },\n  {\n    \"guest_id\": 3,\n    \"visit_date\": \"2024-08-25\",\n    \"amount_spent\": 28,\n    \"park_experience_type\": \"Retail\"\n  },\n  {\n    \"guest_id\": 3,\n    \"visit_date\": \"2024-08-27\",\n    \"amount_spent\": 32,\n    \"park_experience_type\": \"Dining\"\n  },\n  {\n    \"guest_id\": 1,\n    \"visit_date\": \"2024-09-02\",\n    \"amount_spent\": 65,\n    \"park_experience_type\": \"Attraction\"\n  },\n  {\n    \"guest_id\": 8,\n    \"visit_date\": \"2024-09-05\",\n    \"amount_spent\": 50,\n    \"park_experience_type\": \"Retail\"\n  },\n  {\n    \"guest_id\": 9,\n    \"visit_date\": \"2024-09-15\",\n    \"amount_spent\": 40,\n    \"park_experience_type\": \"Dining\"\n  },\n  {\n    \"guest_id\": 10,\n    \"visit_date\": \"2024-09-20\",\n    \"amount_spent\": 70,\n    \"park_experience_type\": \"Entertainment\"\n  },\n  {\n    \"guest_id\": 1,\n    \"visit_date\": \"2024-09-25\",\n    \"amount_spent\": 35,\n    \"park_experience_type\": \"Dining\"\n  },\n  {\n    \"guest_id\": 8,\n    \"visit_date\": \"2024-09-28\",\n    \"amount_spent\": 10,\n    \"park_experience_type\": \"Character Meet\"\n  }\n]\nfct_guest_spending = pd.DataFrame(fct_guest_spending_data)\n"
    },
    {
      "cell_type": "markdown",
      "metadata": {},
      "source": [
        "## Question 1\n\nWhat is the average spending per guest per visit for each park experience type during July 2024? Ensure that park experience types with no recorded transactions are shown with an average spending of 0.0. This analysis helps establish baseline spending differences essential for later segmentation."
      ]
    },
    {
      "cell_type": "code",
      "metadata": {},
      "execution_count": null,
      "outputs": [],
      "source": "# # print(fct_guest_spending['park_experience_type'].value_counts())\n# # park_experience_type\n# # Dining            6\n# # Retail            5\n# # Attraction        4\n# # Entertainment     3\n# # Character Meet    2\n# fct_guest_spending['amount_spent'] = fct_guest_spending['amount_spent'].fillna(0.0)\n# filter = fct_guest_spending[\n#   (fct_guest_spending['visit_date'].dt.month == 7) &\n#   (fct_guest_spending['visit_date'].dt.year == 2024)\n# ]\n\n# avg = filter.groupby('park_experience_type')['amount_spent'].mean()\n# # avg['amount_spent'] = avg['amount_spent'].fillna(0.0)\n\n# print(avg)\n# # print(fct_guest_spending)\n# Fill missing amount_spent with 0\nfct_guest_spending['amount_spent'] = fct_guest_spending['amount_spent'].fillna(0.0)\n\n# Filter July 2024\nfilter = fct_guest_spending[\n    (fct_guest_spending['visit_date'].dt.month == 7) &\n    (fct_guest_spending['visit_date'].dt.year == 2024)\n]\n\n# Group and calculate average\navg = filter.groupby('park_experience_type')['amount_spent'].mean()\n\n# Ensure all experience types are included\nall_types = fct_guest_spending['park_experience_type'].unique()\navg = avg.reindex(all_types, fill_value=0.0)\n\nprint(avg)"
    },
    {
      "cell_type": "markdown",
      "metadata": {},
      "source": [
        "## Question 2\n\nFor guests who visited our parks more than once in August 2024, what is the difference in spending between their first and their last visit? This investigation, using sequential analysis, will reveal any shifts in guest spending behavior over multiple visits."
      ]
    },
    {
      "cell_type": "code",
      "metadata": {},
      "execution_count": null,
      "outputs": [],
      "source": "filter = fct_guest_spending[\n   (fct_guest_spending['visit_date'].dt.year == 2024) &\n   (fct_guest_spending['visit_date'].dt.month == 8)\n ]\n\nguest_visits = filter.groupby(['guest_id', 'visit_date'])['amount_spent'].sum().reset_index()\n\n# Step 3: sort by visit_date\nguest_visits = guest_visits.sort_values(['guest_id', 'visit_date'])\n\n# Step 4: get first and last visit per guest\nfirst_last = guest_visits.groupby('guest_id').agg(\n    first_visit=('amount_spent', 'first'),\n    last_visit=('amount_spent', 'last'),\n    visit_count=('visit_date', 'count')\n).reset_index()\n\n# Step 5: only guests with >1 visits\nmulti_visitors = first_last[first_last['visit_count'] > 1].copy()\n\n# Spending difference\nmulti_visitors['spending_diff'] = multi_visitors['last_visit'] - multi_visitors['first_visit']\n\nprint(multi_visitors[['guest_id', 'first_visit', 'last_visit', 'spending_diff']])"
    },
    {
      "cell_type": "markdown",
      "metadata": {},
      "source": [
        "## Question 3\n\nIn September 2024, how can guests be categorized into distinct spending segments such as Low, Medium, and High based on their total spending? Use the following thresholds for categorization: \n-Low: Includes values from $0 up to, but not including, $50.\n-Medium: Includes values from $50 up to, but not including, $100.\n-High: Includes values from $100 and above. \nExclude guests who did not make any purchases in the period."
      ]
    },
    {
      "cell_type": "code",
      "metadata": {},
      "execution_count": null,
      "outputs": [],
      "source": "filter = fct_guest_spending[\n    (fct_guest_spending['visit_date'].dt.year == 2024) &\n    (fct_guest_spending['visit_date'].dt.month == 9)\n]\n\ntotal = filter.groupby('guest_id')['amount_spent'].sum().reset_index()\ntotal = total[total['amount_spent'] > 0]\ntotal['spending_segment'] = pd.cut(total['amount_spent'],  [0, 50, 100, float('inf')], labels=['Low' ,'Medium', 'High'] , right = False, include_lowest=True)\n# total\n\nprint(total)"
    },
    {
      "cell_type": "markdown",
      "metadata": {},
      "source": [
        "Made with ❤️ by [Interview Master](https://www.interviewmaster.ai)"
      ]
    }
  ],
  "metadata": {
    "kernelspec": {
      "name": "python3",
      "language": "python",
      "display_name": "Python 3"
    },
    "language_info": {
      "name": "python",
      "version": "3",
      "mimetype": "text/x-python",
      "file_extension": ".py"
    }
  },
  "nbformat": 4,
  "nbformat_minor": 5
}